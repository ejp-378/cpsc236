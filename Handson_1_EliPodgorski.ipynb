{
 "cells": [
  {
   "cell_type": "markdown",
   "metadata": {},
   "source": [
    "# Chapter 2 - How to write your first program"
   ]
  },
  {
   "cell_type": "markdown",
   "metadata": {},
   "source": [
    "## 2.1 Student Registration\n",
    "Create a program that allows a student to complete a registration form and displays a completion message that includes the user’s full name and a temporary password.\n",
    "\n",
    "### Console:\n",
    "```powershell\n",
    "Registration Form\n",
    "\n",
    "First Name: Eric\n",
    "Last Name: Idle\n",
    "Birth Year: 1934\n",
    "\n",
    "Welcome Eric Idle!\n",
    "Your registration is complete!\n",
    "Your temporary password is: Eric*1934\n",
    "```\n",
    "\n",
    "### Specifications:\n",
    "- The user’s full name consists of the user’s first name, a space, and the user’s last name.\n",
    "- The temporary password consists of the user’s first name, an asterisk (*), and the user’s birth year.\n",
    "- Assume the user will enter valid data.\n"
   ]
  },
  {
   "cell_type": "code",
   "execution_count": 17,
   "metadata": {},
   "outputs": [
    {
     "name": "stdout",
     "output_type": "stream",
     "text": [
      "Registration Form\n",
      "\n",
      "First Name: Eli\n",
      "Last Name: Podgorski\n",
      "Birth Year: 2002\n",
      "Welcome Eli Podgorski!\n",
      "Your Registration is complete\n",
      "Your temporary password is: Eli*2002\n"
     ]
    }
   ],
   "source": [
    "print(\"Registration Form\\n\")\n",
    "firstname = input(\"First Name: \")\n",
    "lastname = input(\"Last Name: \")\n",
    "birthyear = input(\"Birth Year: \")\n",
    "\n",
    "print(\"Welcome \" + firstname + \" \" + lastname + \"!\")\n",
    "print(\"Your Registration is complete\")\n",
    "print(\"Your temporary password is: \" + firstname + \"*\" + birthyear)\n"
   ]
  },
  {
   "cell_type": "markdown",
   "metadata": {},
   "source": [
    "## 2.2 - Pay Check Calculator\n",
    "Create a program that calculates a user’s weekly gross and take-home pay.\n",
    "\n",
    "### Console\n",
    "```powershell\n",
    "Pay Check Calculator\n",
    "\n",
    "Hours Worked: 35\n",
    "Hourly Pay Rate: 14.50\n",
    "\n",
    "Gross Pay: 507.5\n",
    "Tax Rate: 18%\n",
    "Tax Amount: 91.35\n",
    "Take Home Pay: 416.15\n",
    "```\n",
    "\n",
    "### Specifications:\n",
    "- The formula for calculating gross pay is:\n",
    "`gross pay = hours worked * hourly rate`\n",
    "- The formula for calculating tax amount is:\n",
    "`tax amount = gross pay * (tax rate / 100)`\n",
    "- The formula for calculating take home pay is:\n",
    "`take home pay = gross pay – tax amount`\n",
    "- The tax rate should be 18%, but the program should store the tax rate in a variable so that you can easily change the tax rate later, just by changing the value that’s stored in the variable.\n",
    "- The program should accept decimal entries like 35.5 and 14.25.\n",
    "- Assume the user will enter valid data.\n",
    "- The program should round the results to a maximum of two decimal places.\n"
   ]
  },
  {
   "cell_type": "code",
   "execution_count": 46,
   "metadata": {},
   "outputs": [
    {
     "name": "stdout",
     "output_type": "stream",
     "text": [
      "Pay Check Calculator\n",
      "\n",
      "Hours Worked: 100\n",
      "Hourly Wage: 10\n",
      "Gross Pay: 1000.0\n",
      "Tax Rate: 18%\n",
      "Tax Amount: 180.0\n",
      "Take Home Pay: 820.0\n"
     ]
    }
   ],
   "source": [
    "print(\"Pay Check Calculator\\n\")\n",
    "\n",
    "taxrate= 18\n",
    "hoursworked = float(input(\"Hours Worked: \"))\n",
    "hourlywage = float(input(\"Hourly Wage: \"))\n",
    "\n",
    "grosspay = (hourlywage * hoursworked)\n",
    "grosspay = round(grosspay , 2)\n",
    "print (\"Gross Pay: \" + str(grosspay))\n",
    "print(\"Tax Rate: \" + str(taxrate) + \"%\")\n",
    "taxamt = (grosspay * (taxrate/100))\n",
    "taxamt = round(taxamt , 2)\n",
    "print(\"Tax Amount: \" + str(taxamt))\n",
    "takehome = (grosspay - taxamt)\n",
    "takehome = round(takehome , 2)\n",
    "print(\"Take Home Pay: \" + str(takehome))"
   ]
  },
  {
   "cell_type": "markdown",
   "metadata": {},
   "source": [
    "## 2.3 - Travel Time Calculator\n",
    "Create a program that calculates the estimated hours and minutes for a trip.\n",
    "\n",
    "### Console\n",
    "```powershell\n",
    "Travel Time Calculator\n",
    "\n",
    "Enter Miles: 200\n",
    "Enter Miles per Hour: 65\n",
    "\n",
    "Estimated Travel Time\n",
    "Hours: 3\n",
    "Minutes: 5\n",
    "```\n",
    "\n",
    "### Specifications\n",
    "- The program should only accept integer entries like 200 and 65.\n",
    "- Assume that the user will enter valid data.\n",
    "\n",
    "### Hint\n",
    "- Use integers with the integer division and modulus operators to get hours and minutes."
   ]
  },
  {
   "cell_type": "code",
   "execution_count": 43,
   "metadata": {},
   "outputs": [
    {
     "name": "stdout",
     "output_type": "stream",
     "text": [
      "Travel Time Calculator: \n",
      "\n",
      "Enter Miles: 160\n",
      "Enter Miles Per Hour: 14\n",
      "Estimated Travel Time\n",
      "Hours: 11\n",
      "Minutes: 6\n"
     ]
    }
   ],
   "source": [
    "print(\"Travel Time Calculator: \\n\")\n",
    "milestraveled = int(input(\"Enter Miles: \"))\n",
    "mph = int(input(\"Enter Miles Per Hour: \"))\n",
    "\n",
    "print(\"Estimated Travel Time\")\n",
    "hours = milestraveled // mph\n",
    "print(\"Hours: \" + str(hours))\n",
    "minutes = milestraveled % mph\n",
    "print(\"Minutes: \" + str(minutes))\n"
   ]
  },
  {
   "cell_type": "code",
   "execution_count": null,
   "metadata": {},
   "outputs": [],
   "source": []
  }
 ],
 "metadata": {
  "kernelspec": {
   "display_name": "Python 3 (ipykernel)",
   "language": "python",
   "name": "python3"
  },
  "language_info": {
   "codemirror_mode": {
    "name": "ipython",
    "version": 3
   },
   "file_extension": ".py",
   "mimetype": "text/x-python",
   "name": "python",
   "nbconvert_exporter": "python",
   "pygments_lexer": "ipython3",
   "version": "3.11.4"
  }
 },
 "nbformat": 4,
 "nbformat_minor": 2
}
